{
 "cells": [
  {
   "cell_type": "code",
   "execution_count": null,
   "metadata": {},
   "outputs": [
    {
     "name": "stderr",
     "output_type": "stream",
     "text": [
      "Using TensorFlow backend.\n"
     ]
    },
    {
     "name": "stdout",
     "output_type": "stream",
     "text": [
      "Downloading data from https://s3.amazonaws.com/img-datasets/mnist.npz\n",
      "11493376/11490434 [==============================] - 24s 2us/step\n",
      "_________________________________________________________________\n",
      "Layer (type)                 Output Shape              Param #   \n",
      "=================================================================\n",
      "dense_1 (Dense)              (None, 500)               392500    \n",
      "_________________________________________________________________\n",
      "dense_2 (Dense)              (None, 500)               250500    \n",
      "_________________________________________________________________\n",
      "dense_3 (Dense)              (None, 500)               250500    \n",
      "_________________________________________________________________\n",
      "dense_4 (Dense)              (None, 10)                5010      \n",
      "=================================================================\n",
      "Total params: 898,510\n",
      "Trainable params: 898,510\n",
      "Non-trainable params: 0\n",
      "_________________________________________________________________\n",
      "Epoch 1/20\n",
      "60000/60000 [==============================] - 7s 123us/step - loss: 0.2065 - acc: 0.9374\n",
      "Epoch 2/20\n",
      "60000/60000 [==============================] - 7s 121us/step - loss: 0.0835 - acc: 0.9743\n",
      "Epoch 3/20\n",
      "60000/60000 [==============================] - 7s 123us/step - loss: 0.0555 - acc: 0.9826\n",
      "Epoch 4/20\n",
      "60000/60000 [==============================] - 7s 124us/step - loss: 0.0413 - acc: 0.9871\n",
      "Epoch 5/20\n",
      "60000/60000 [==============================] - 7s 123us/step - loss: 0.0347 - acc: 0.9891\n",
      "Epoch 6/20\n",
      "60000/60000 [==============================] - 7s 124us/step - loss: 0.0308 - acc: 0.9903\n",
      "Epoch 7/20\n",
      "60000/60000 [==============================] - 7s 124us/step - loss: 0.0244 - acc: 0.9923\n",
      "Epoch 8/20\n",
      "60000/60000 [==============================] - 7s 124us/step - loss: 0.0226 - acc: 0.9928\n",
      "Epoch 9/20\n",
      "60000/60000 [==============================] - 7s 125us/step - loss: 0.0209 - acc: 0.9929\n",
      "Epoch 10/20\n",
      "60000/60000 [==============================] - 8s 126us/step - loss: 0.0209 - acc: 0.9933\n",
      "Epoch 11/20\n",
      "60000/60000 [==============================] - 8s 126us/step - loss: 0.0144 - acc: 0.9955\n",
      "Epoch 12/20\n",
      "20700/60000 [=========>....................] - ETA: 5s - loss: 0.0134 - acc: 0.9955"
     ]
    }
   ],
   "source": [
    "\"\"\"\n",
    "# -*- coding: utf-8 -*-\n",
    "\"\"\"\n",
    "from keras.datasets import mnist\n",
    "from keras.utils import np_utils\n",
    "\n",
    "def load_data():\n",
    "    # 載入minst的資料\n",
    "    (x_train, y_train), (x_test, y_test) = mnist.load_data()\n",
    "    # 將圖片轉換為一個60000*784的向量，並且標準化\n",
    "    x_train = x_train.reshape(x_train.shape[0], 28*28)\n",
    "    x_test = x_test.reshape(x_test.shape[0], 28*28)\n",
    "    x_train = x_train.astype('float32')\n",
    "    x_test = x_test.astype('float32')\n",
    "    x_train = x_train/255\n",
    "    x_test = x_test/255\n",
    "    # 將y轉換成one-hot encoding \n",
    "    y_train = np_utils.to_categorical(y_train, 10)\n",
    "    y_test = np_utils.to_categorical(y_test, 10)\n",
    "    # 回傳處理完的資料\n",
    "    return (x_train, y_train), (x_test, y_test)\n",
    "\n",
    "import numpy as np\n",
    "from keras.models import Sequential\n",
    "from keras.layers.core import Dense,Activation\n",
    "from keras.optimizers import  Adam\n",
    "\n",
    "def build_model():\n",
    "        #建立模型\n",
    "        model = Sequential()\n",
    "        #將模型疊起\n",
    "        model.add(Dense(input_dim=28*28,units=500,activation='relu'))\n",
    "        model.add(Dense(units=500,activation='relu'))\n",
    "        model.add(Dense(units=500,activation='relu'))\n",
    "        model.add(Dense(units=10,activation='softmax'))\n",
    "        model.summary()\n",
    "        return model\n",
    "    \n",
    "(x_train,y_train),(x_test,y_test)=load_data()\n",
    "model = build_model()\n",
    "#開始訓練模型\n",
    "model.compile(loss='categorical_crossentropy',optimizer=\"adam\",metrics=['accuracy'])\n",
    "model.fit(x_train,y_train,batch_size=100,epochs=20)\n",
    "#顯示訓練結果\n",
    "score = model.evaluate(x_train,y_train)\n",
    "print ('\\nTrain Acc:', score[1])\n",
    "score = model.evaluate(x_test,y_test)\n",
    "print ('\\nTest Acc:', score[1])\n"
   ]
  },
  {
   "cell_type": "code",
   "execution_count": null,
   "metadata": {},
   "outputs": [],
   "source": []
  }
 ],
 "metadata": {
  "kernelspec": {
   "display_name": "Python 3",
   "language": "python",
   "name": "python3"
  },
  "language_info": {
   "codemirror_mode": {
    "name": "ipython",
    "version": 3
   },
   "file_extension": ".py",
   "mimetype": "text/x-python",
   "name": "python",
   "nbconvert_exporter": "python",
   "pygments_lexer": "ipython3",
   "version": "3.6.4"
  }
 },
 "nbformat": 4,
 "nbformat_minor": 2
}
